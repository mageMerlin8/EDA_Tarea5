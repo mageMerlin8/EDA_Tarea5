{
 "cells": [
  {
   "cell_type": "code",
   "execution_count": 155,
   "metadata": {},
   "outputs": [],
   "source": [
    "class NodeB:\n",
    "    def __init__(self, dato, right=None, left=None):\n",
    "        self.dato = dato\n",
    "        self.right = right\n",
    "        self.left = left\n",
    "    \n",
    "    def __lt__(self, other):\n",
    "        return self.dato <  other.dato\n",
    "    def __le__(self, other):\n",
    "        return self.dato <= other.dato\n",
    "    def __eq__(self, other):\n",
    "        return self.dato == other.dato\n",
    "    def __gt__(self, other):\n",
    "        return self.dato >  other.dato\n",
    "    def __ge__(self, dato):\n",
    "        return self.dato >= other.dato\n",
    "    \n",
    "    \n",
    "    def __str__(self, level=0):\n",
    "        resp = \"\\t\" * level + \"nivel: \" + str(level) + \" dato:\" + str(self.dato) + \"\\n\"\n",
    "        \n",
    "        if(self.right is not None):\n",
    "            resp += \"\\t\" * (level) + \"Nodo Derecho  : \\n\" + self.right.__str__(level+1) + \"\\n\"\n",
    "        if(self.left is not None):\n",
    "            resp += \"\\t\" * (level) + \"Nodo Izquierdo: \\n\" + self.left.__str__(level+1)\n",
    "            \n",
    "        return resp\n",
    "    "
   ]
  },
  {
   "cell_type": "code",
   "execution_count": 225,
   "metadata": {},
   "outputs": [],
   "source": [
    "class ArbolB:\n",
    "    def __init__(self, root = None):\n",
    "        self.root = root\n",
    "          \n",
    "    def find(self, dato):\n",
    "        return self.__findR(dato, self.root)\n",
    "    \n",
    "    def __findR(self, dato, currentNode, resp=[], pastNode = None):\n",
    "        if(currentNode is None): return False\n",
    "        if(currentNode.dato == dato): return {'pasos':resp, 'nodo':currentNode, 'nodoAnt':pastNode}\n",
    "        \n",
    "        if(currentNode.dato < dato):\n",
    "            resp.append('r')\n",
    "            return self.__findR(dato, currentNode.right, resp, currentNode)\n",
    "        elif(currentNode.dato > dato):\n",
    "            resp.append('l')\n",
    "            return self.__findR(dato, currentNode.left, resp, currentNode)\n",
    "    \n",
    "    def findPrev(self, nodo):\n",
    "        if(nodo.right is None): return None\n",
    "        else:\n",
    "            nodo = nodo.right\n",
    "            while(nodo.left is not None):\n",
    "                nodo = nodo.left\n",
    "        return nodo\n",
    "    \n",
    "    def insert(self, dato):\n",
    "        newNode = NodeB(dato)\n",
    "        if(self.root is None): self.root = newNode\n",
    "        elif(self.root < newNode): \n",
    "            if(self.root.right is not None):\n",
    "                self.__insertR(newNode, self.root.right)\n",
    "            else:\n",
    "                self.root.right = newNode\n",
    "        \n",
    "        elif(self.root > newNode):\n",
    "            if(self.root.left is not None):\n",
    "                self.__insertR(newNode, self.root.left)\n",
    "            else:\n",
    "                self.root.left = newNode\n",
    "        #else:#Handle repeated node    \n",
    "    \n",
    "    def __insertR(self, newNode, treeNode):\n",
    "        \n",
    "        if(treeNode < newNode):\n",
    "            if(treeNode.right is None):\n",
    "                treeNode.right = newNode\n",
    "            else:\n",
    "                self.__insertR(newNode, treeNode.right)\n",
    "        elif(treeNode > newNode):\n",
    "            if(treeNode.left is None):\n",
    "                treeNode.left = newNode\n",
    "            else:\n",
    "                self.__insertR(newNode, treeNode.left)\n",
    "        #else: #Handle repeated node    \n",
    "        \n",
    "    def delete(self, dato):\n",
    "        info = self.find(dato)\n",
    "        if(info):#Si se encontro el dato a quitar\n",
    "            if((info['nodo'].left is None) and (info['nodo'].right is None)):#El nodo a quitar no tiene hijos\n",
    "                if(info['pasos']==[]): self.root = None #Es la raíz\n",
    "                elif(info['pasos'][-1] == 'r'): info['nodoAnt'].right = None \n",
    "                elif(info['pasos'][-1] == 'l'): info['nodoAnt'].left = None\n",
    "                        \n",
    "            elif(info['nodo'].left is not None and info['nodo'].right is not None):#el nodo a quitar tiene 2 hijos\n",
    "                prev = self.findPrev(info['nodo'])\n",
    "                info['nodo'].dato = prev.dato\n",
    "                ArbolB(info['nodo'].right).delete(prev.dato)\n",
    "                \n",
    "            else: # solamente tiene un hijo\n",
    "                if(info['pasos']==[]): \n",
    "                    self.root = info['nodo'].right or info['nodo'].left #Es la raíz\n",
    "                elif(info['pasos'][-1] == 'r'):\n",
    "                        info['nodoAnt'].right = info['nodo'].right or info['nodo'].left \n",
    "                elif(info['pasos'][-1] == 'l'):\n",
    "                        info['nodoAnt'].left = info['nodo'].right or info['nodo'].left\n",
    "            \n",
    "        \n",
    "    \n",
    "    \n",
    "    def __str__(self):\n",
    "        return \"Árbol: \" + str(self.root)"
   ]
  },
  {
   "cell_type": "code",
   "execution_count": 226,
   "metadata": {},
   "outputs": [],
   "source": [
    "miarbol = ArbolB()"
   ]
  },
  {
   "cell_type": "code",
   "execution_count": 235,
   "metadata": {},
   "outputs": [],
   "source": [
    "miarbol.insert(70)\n",
    "miarbol.insert(50)\n",
    "miarbol.insert(100)\n",
    "miarbol.insert(30)\n",
    "miarbol.insert(60)\n",
    "miarbol.insert(80)\n",
    "miarbol.insert(115)\n",
    "miarbol.insert(20)\n",
    "miarbol.insert(40)\n",
    "miarbol.insert(65)\n",
    "miarbol.insert(75)\n",
    "miarbol.insert(87)\n",
    "miarbol.insert(112)\n",
    "miarbol.insert(35)\n",
    "miarbol.insert(63)\n",
    "miarbol.insert(68)\n",
    "miarbol.insert(67)\n"
   ]
  },
  {
   "cell_type": "code",
   "execution_count": 236,
   "metadata": {},
   "outputs": [
    {
     "name": "stdout",
     "output_type": "stream",
     "text": [
      "Árbol: nivel: 0 dato:75\n",
      "Nodo Derecho  : \n",
      "\tnivel: 1 dato:100\n",
      "\tNodo Derecho  : \n",
      "\t\tnivel: 2 dato:115\n",
      "\t\tNodo Izquierdo: \n",
      "\t\t\tnivel: 3 dato:112\n",
      "\n",
      "\tNodo Izquierdo: \n",
      "\t\tnivel: 2 dato:80\n",
      "\t\tNodo Derecho  : \n",
      "\t\t\tnivel: 3 dato:87\n",
      "\n",
      "\n",
      "Nodo Izquierdo: \n",
      "\tnivel: 1 dato:50\n",
      "\tNodo Derecho  : \n",
      "\t\tnivel: 2 dato:60\n",
      "\t\tNodo Derecho  : \n",
      "\t\t\tnivel: 3 dato:65\n",
      "\t\t\tNodo Derecho  : \n",
      "\t\t\t\tnivel: 4 dato:68\n",
      "\t\t\t\tNodo Derecho  : \n",
      "\t\t\t\t\tnivel: 5 dato:70\n",
      "\n",
      "\t\t\t\tNodo Izquierdo: \n",
      "\t\t\t\t\tnivel: 5 dato:67\n",
      "\n",
      "\t\t\tNodo Izquierdo: \n",
      "\t\t\t\tnivel: 4 dato:63\n",
      "\n",
      "\n",
      "\tNodo Izquierdo: \n",
      "\t\tnivel: 2 dato:30\n",
      "\t\tNodo Derecho  : \n",
      "\t\t\tnivel: 3 dato:40\n",
      "\t\t\tNodo Izquierdo: \n",
      "\t\t\t\tnivel: 4 dato:35\n",
      "\n",
      "\t\tNodo Izquierdo: \n",
      "\t\t\tnivel: 3 dato:20\n",
      "\n"
     ]
    }
   ],
   "source": [
    "print(str(miarbol))"
   ]
  },
  {
   "cell_type": "code",
   "execution_count": 237,
   "metadata": {},
   "outputs": [],
   "source": [
    "node100 = miarbol.find(100)"
   ]
  },
  {
   "cell_type": "code",
   "execution_count": 238,
   "metadata": {},
   "outputs": [
    {
     "name": "stdout",
     "output_type": "stream",
     "text": [
      "nivel: 0 dato:100\n",
      "Nodo Derecho  : \n",
      "\tnivel: 1 dato:115\n",
      "\tNodo Izquierdo: \n",
      "\t\tnivel: 2 dato:112\n",
      "\n",
      "Nodo Izquierdo: \n",
      "\tnivel: 1 dato:80\n",
      "\tNodo Derecho  : \n",
      "\t\tnivel: 2 dato:87\n",
      "\n",
      "\n"
     ]
    }
   ],
   "source": [
    "print(node100['nodo'])"
   ]
  },
  {
   "cell_type": "code",
   "execution_count": 239,
   "metadata": {},
   "outputs": [],
   "source": [
    "prev100 = miarbol.findPrev(node100['nodo'])"
   ]
  },
  {
   "cell_type": "code",
   "execution_count": 240,
   "metadata": {},
   "outputs": [
    {
     "name": "stdout",
     "output_type": "stream",
     "text": [
      "nivel: 0 dato:112\n",
      "\n"
     ]
    }
   ],
   "source": [
    "print(prev100)"
   ]
  },
  {
   "cell_type": "code",
   "execution_count": 241,
   "metadata": {},
   "outputs": [
    {
     "name": "stdout",
     "output_type": "stream",
     "text": [
      "Árbol: nivel: 0 dato:75\n",
      "Nodo Derecho  : \n",
      "\tnivel: 1 dato:100\n",
      "\tNodo Derecho  : \n",
      "\t\tnivel: 2 dato:115\n",
      "\t\tNodo Izquierdo: \n",
      "\t\t\tnivel: 3 dato:112\n",
      "\n",
      "\tNodo Izquierdo: \n",
      "\t\tnivel: 2 dato:80\n",
      "\t\tNodo Derecho  : \n",
      "\t\t\tnivel: 3 dato:87\n",
      "\n",
      "\n",
      "Nodo Izquierdo: \n",
      "\tnivel: 1 dato:50\n",
      "\tNodo Derecho  : \n",
      "\t\tnivel: 2 dato:60\n",
      "\t\tNodo Derecho  : \n",
      "\t\t\tnivel: 3 dato:65\n",
      "\t\t\tNodo Derecho  : \n",
      "\t\t\t\tnivel: 4 dato:68\n",
      "\t\t\t\tNodo Derecho  : \n",
      "\t\t\t\t\tnivel: 5 dato:70\n",
      "\n",
      "\t\t\t\tNodo Izquierdo: \n",
      "\t\t\t\t\tnivel: 5 dato:67\n",
      "\n",
      "\t\t\tNodo Izquierdo: \n",
      "\t\t\t\tnivel: 4 dato:63\n",
      "\n",
      "\n",
      "\tNodo Izquierdo: \n",
      "\t\tnivel: 2 dato:30\n",
      "\t\tNodo Derecho  : \n",
      "\t\t\tnivel: 3 dato:40\n",
      "\t\t\tNodo Izquierdo: \n",
      "\t\t\t\tnivel: 4 dato:35\n",
      "\n",
      "\t\tNodo Izquierdo: \n",
      "\t\t\tnivel: 3 dato:20\n",
      "\n"
     ]
    }
   ],
   "source": [
    "print(miarbol)"
   ]
  },
  {
   "cell_type": "code",
   "execution_count": 242,
   "metadata": {},
   "outputs": [
    {
     "name": "stdout",
     "output_type": "stream",
     "text": [
      "Árbol: nivel: 0 dato:75\n",
      "Nodo Derecho  : \n",
      "\tnivel: 1 dato:100\n",
      "\tNodo Derecho  : \n",
      "\t\tnivel: 2 dato:115\n",
      "\t\tNodo Izquierdo: \n",
      "\t\t\tnivel: 3 dato:112\n",
      "\n",
      "\tNodo Izquierdo: \n",
      "\t\tnivel: 2 dato:80\n",
      "\t\tNodo Derecho  : \n",
      "\t\t\tnivel: 3 dato:87\n",
      "\n",
      "\n",
      "Nodo Izquierdo: \n",
      "\tnivel: 1 dato:50\n",
      "\tNodo Derecho  : \n",
      "\t\tnivel: 2 dato:60\n",
      "\t\tNodo Derecho  : \n",
      "\t\t\tnivel: 3 dato:65\n",
      "\t\t\tNodo Derecho  : \n",
      "\t\t\t\tnivel: 4 dato:68\n",
      "\t\t\t\tNodo Izquierdo: \n",
      "\t\t\t\t\tnivel: 5 dato:67\n",
      "\n",
      "\t\t\tNodo Izquierdo: \n",
      "\t\t\t\tnivel: 4 dato:63\n",
      "\n",
      "\n",
      "\tNodo Izquierdo: \n",
      "\t\tnivel: 2 dato:30\n",
      "\t\tNodo Derecho  : \n",
      "\t\t\tnivel: 3 dato:40\n",
      "\t\t\tNodo Izquierdo: \n",
      "\t\t\t\tnivel: 4 dato:35\n",
      "\n",
      "\t\tNodo Izquierdo: \n",
      "\t\t\tnivel: 3 dato:20\n",
      "\n"
     ]
    }
   ],
   "source": [
    "miarbol.delete(70)\n",
    "print(miarbol)"
   ]
  },
  {
   "cell_type": "code",
   "execution_count": null,
   "metadata": {},
   "outputs": [],
   "source": []
  }
 ],
 "metadata": {
  "kernelspec": {
   "display_name": "Python 3",
   "language": "python",
   "name": "python3"
  },
  "language_info": {
   "codemirror_mode": {
    "name": "ipython",
    "version": 3
   },
   "file_extension": ".py",
   "mimetype": "text/x-python",
   "name": "python",
   "nbconvert_exporter": "python",
   "pygments_lexer": "ipython3",
   "version": "3.6.6"
  }
 },
 "nbformat": 4,
 "nbformat_minor": 2
}
